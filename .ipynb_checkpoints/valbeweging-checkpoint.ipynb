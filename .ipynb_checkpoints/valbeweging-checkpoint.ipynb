{
 "cells": [
  {
   "cell_type": "code",
   "execution_count": 1,
   "metadata": {
    "collapsed": true,
    "jupyter": {
     "outputs_hidden": true,
     "source_hidden": true
    }
   },
   "outputs": [
    {
     "data": {
      "text/plain": [
       "'%.3f'"
      ]
     },
     "execution_count": 1,
     "metadata": {},
     "output_type": "execute_result"
    }
   ],
   "source": [
    "# wat tovenarij om de rest mooier te laten werken\n",
    "from matplotlib.pyplot import *\n",
    "%matplotlib  widget\n",
    "%precision %.3f"
   ]
  },
  {
   "cell_type": "markdown",
   "metadata": {},
   "source": [
    "## Cirkelbeweging\n",
    "Dit programma simuleert een eenparige cirkelbeweging\n",
    "\n",
    "### Invoer\n",
    "Eerst geven we de parameters van de simulatie op\n",
    "\n",
    "Klik op het vak met de commando's en druk op\n",
    "shift+enter om de commando's uit te voeren"
   ]
  },
  {
   "cell_type": "code",
   "execution_count": 2,
   "metadata": {},
   "outputs": [],
   "source": [
    "F_centripetaal  = 10.\n",
    "m = 3.\n",
    "\n",
    "v_x_begin = 5.\n",
    "v_y_begin = 0.\n",
    "t_begin = 0.\n",
    "x_begin = 0.\n",
    "y_begin = 0.\n",
    "\n",
    "dt= 0.001"
   ]
  },
  {
   "cell_type": "markdown",
   "metadata": {},
   "source": [
    "De waarden zijn nu opgeslagen, zie maar:"
   ]
  },
  {
   "cell_type": "code",
   "execution_count": 3,
   "metadata": {},
   "outputs": [
    {
     "data": {
      "text/plain": [
       "5.000"
      ]
     },
     "execution_count": 3,
     "metadata": {},
     "output_type": "execute_result"
    }
   ],
   "source": [
    "v_x_begin"
   ]
  },
  {
   "cell_type": "markdown",
   "metadata": {},
   "source": [
    "Tijdens het programma veranderen x, y, v, w en t  \n",
    "We slaan alle waarden op in lijsten (bijvoorbe )\n",
    "\n",
    "de eerste waarde in de lisjt is de beginwaarde\n",
    "\n",
    "de laatste waarde in  lijst x kun je vinden met x[-1]\n"
   ]
  },
  {
   "cell_type": "code",
   "execution_count": 4,
   "metadata": {},
   "outputs": [],
   "source": [
    "t = [t_begin]\n",
    "x = [x_begin]\n",
    "y = [y_begin]\n",
    "v_x = [v_x_begin]\n",
    "v_y = [v_y_begin]\n",
    "\n",
    "while t[-1]<10 :\n",
    "    a_totaal = F_centripetaal/m\n",
    "    snelheid_totaal = (v_x[-1]**2 + v_y[-1]**2)**0.5\n",
    "    \n",
    "    a_x = a_totaal * v_y[-1] /snelheid_totaal\n",
    "    a_y = -1*a_totaal * v_x[-1] /snelheid_totaal\n",
    "    \n",
    "    v_x_nieuw = v_x[-1] + a_x*dt\n",
    "    v_y_nieuw = v_y[-1] + a_y*dt\n",
    "    \n",
    "    x_nieuw = x[-1] + v_x_nieuw*dt\n",
    "    y_nieuw = y[-1] + v_y_nieuw*dt\n",
    "    \n",
    "    t_nieuw = t[-1] + dt\n",
    "    \n",
    "    x.append(x_nieuw)\n",
    "    y.append(y_nieuw)\n",
    "    v_x.append(v_x_nieuw)\n",
    "    v_y.append(v_y_nieuw)\n",
    "    t.append(t_nieuw)"
   ]
  },
  {
   "cell_type": "markdown",
   "metadata": {},
   "source": [
    "De eerste 10 waarden in t zijn nu:"
   ]
  },
  {
   "cell_type": "code",
   "execution_count": 5,
   "metadata": {},
   "outputs": [
    {
     "data": {
      "text/plain": [
       "[0.000, 0.001, 0.002, 0.003, 0.004, 0.005, 0.006, 0.007, 0.008, 0.009]"
      ]
     },
     "execution_count": 5,
     "metadata": {},
     "output_type": "execute_result"
    }
   ],
   "source": [
    "t[:10]"
   ]
  },
  {
   "cell_type": "markdown",
   "metadata": {},
   "source": [
    "en de eerste 10 waarden in x:"
   ]
  },
  {
   "cell_type": "code",
   "execution_count": 6,
   "metadata": {},
   "outputs": [
    {
     "data": {
      "text/plain": [
       "[0.000, 0.005, 0.010, 0.015, 0.020, 0.025, 0.030, 0.035, 0.040, 0.045]"
      ]
     },
     "execution_count": 6,
     "metadata": {},
     "output_type": "execute_result"
    }
   ],
   "source": [
    "x[:10]"
   ]
  },
  {
   "cell_type": "markdown",
   "metadata": {},
   "source": [
    "Nu een plaatje:"
   ]
  },
  {
   "cell_type": "code",
   "execution_count": 15,
   "metadata": {},
   "outputs": [
    {
     "data": {
      "application/vnd.jupyter.widget-view+json": {
       "model_id": "a101eb841f4d4394bbb52b9720ea5daa",
       "version_major": 2,
       "version_minor": 0
      },
      "text/plain": [
       "Canvas(toolbar=Toolbar(toolitems=[('Home', 'Reset original view', 'home', 'home'), ('Back', 'Back to previous …"
      ]
     },
     "metadata": {},
     "output_type": "display_data"
    }
   ],
   "source": [
    "figure()\n",
    "plot(x,y)\n",
    "title('eenparige cirkelbeweging')\n",
    "xlabel('x [m]')\n",
    "ylabel('y [m]');\n"
   ]
  },
  {
   "cell_type": "code",
   "execution_count": 16,
   "metadata": {},
   "outputs": [
    {
     "data": {
      "application/vnd.jupyter.widget-view+json": {
       "model_id": "fe9e6e6acd9549efbe8702ab591e379b",
       "version_major": 2,
       "version_minor": 0
      },
      "text/plain": [
       "Canvas(toolbar=Toolbar(toolitems=[('Home', 'Reset original view', 'home', 'home'), ('Back', 'Back to previous …"
      ]
     },
     "metadata": {},
     "output_type": "display_data"
    }
   ],
   "source": [
    "figure()\n",
    "plot(t,x)\n",
    "title('de x-lokatie in een eenparige cirkelbeweging')\n",
    "xlabel('t [s]')\n",
    "ylabel('x [m]');"
   ]
  },
  {
   "cell_type": "code",
   "execution_count": null,
   "metadata": {},
   "outputs": [],
   "source": []
  }
 ],
 "metadata": {
  "kernelspec": {
   "display_name": "Python 3",
   "language": "python",
   "name": "python3"
  },
  "language_info": {
   "codemirror_mode": {
    "name": "ipython",
    "version": 3
   },
   "file_extension": ".py",
   "mimetype": "text/x-python",
   "name": "python",
   "nbconvert_exporter": "python",
   "pygments_lexer": "ipython3",
   "version": "3.7.3"
  }
 },
 "nbformat": 4,
 "nbformat_minor": 4
}
