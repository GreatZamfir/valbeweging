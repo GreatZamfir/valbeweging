{
 "cells": [
  {
   "cell_type": "markdown",
   "metadata": {},
   "source": [
    "# Valbeweging\n",
    "Dit programma simuleert een valbeweging met wrijving\n",
    "\n",
    "Je kunt het programma draaien door tegelijk op \"shift\" en op \"enter\" te drukken.  \n",
    "Er wordt dan 1 vakje afgespeeld\n",
    "\n",
    "Probeer maar:"
   ]
  },
  {
   "cell_type": "code",
   "execution_count": null,
   "metadata": {},
   "outputs": [],
   "source": [
    "2 + 2"
   ]
  },
  {
   "cell_type": "code",
   "execution_count": null,
   "metadata": {},
   "outputs": [],
   "source": [
    "waarde = 3\n",
    "waarde + 4"
   ]
  },
  {
   "cell_type": "code",
   "execution_count": null,
   "metadata": {},
   "outputs": [],
   "source": [
    "# wat tovenarij om de rest mooier te laten werken\n",
    "# niet teveel over nadenken, gewoon op shift+enter drukken\n",
    "from matplotlib.pyplot import *\n",
    "%matplotlib  inline\n",
    "\n",
    "from IPython.core.interactiveshell import InteractiveShell\n",
    "%precision %.2f \n",
    "InteractiveShell.ast_node_interactivity = \"all\"\n",
    "\"instellingen zijn opgeslagen\""
   ]
  },
  {
   "cell_type": "markdown",
   "metadata": {},
   "source": [
    "\n",
    "\n",
    "## Invoer\n",
    "Hier geven we de parameters van de simulatie op\n",
    "\n"
   ]
  },
  {
   "cell_type": "code",
   "execution_count": null,
   "metadata": {},
   "outputs": [],
   "source": [
    "m = 3.          # massa in kg\n",
    "g = -9.81       #valversnelling in m/s**2\n",
    "k_w = 2.       # wrijvingcoefficent. F_wrijving = - k_w*v \n",
    "h_vloer = 2.    # hoogte van de vloer in m. De som stopt als we de vloer raken\n",
    "\n",
    "v_begin = 25.  # snelheid in m/2. Positief is omhoog!\n",
    "h_begin = 10. # hoogte in m\n",
    "t_begin = 0.  # tijd in s\n",
    "\n",
    "dt= 0.01 # tijdstap van de simulatie. Hoe kleiner, hoe nauwkeuriger de simulatie\n",
    "\n",
    "\"invoer is opgeslagen\""
   ]
  },
  {
   "cell_type": "markdown",
   "metadata": {},
   "source": [
    "De waarden zijn nu opgeslagen. Kijk maar:"
   ]
  },
  {
   "cell_type": "code",
   "execution_count": null,
   "metadata": {},
   "outputs": [],
   "source": [
    "h_begin"
   ]
  },
  {
   "cell_type": "markdown",
   "metadata": {},
   "source": [
    "## De simulatie\n",
    "\n",
    "Tijdens het programma veranderen v h en t  \n",
    "We slaan alle waarden op in lijsten, bijvoorbeeld h = [10.0, 9.0, 8.0]\n",
    "\n",
    "De eerste waarde in de lijst zetten we op de beginwaarde\n",
    "\n",
    "De laatste waarde in lijst x heet x[-1]\n",
    "\n",
    "Elke stap voegen we een waarde toe aan de lijst met x.append. Dit wordt dan de nieuwe x[-1]\n",
    "\n"
   ]
  },
  {
   "cell_type": "code",
   "execution_count": null,
   "metadata": {},
   "outputs": [],
   "source": [
    "# Initialisatie van de lijsten:\n",
    "t = [t_begin]\n",
    "h = [h_begin]\n",
    "v = [v_begin]\n",
    "\n",
    "# we herhalen de volgende berekening, \n",
    "# zolang (\"while\") de hoogte groter is dan de vloer\n",
    "\n",
    "while h[-1] > h_vloer : \n",
    "    # Begin van de nieuwe tijdstap\n",
    "    #We lezen de waarden van de vorige tijdstap:\n",
    "    t_oud = t[-1]\n",
    "    v_oud = v[-1]\n",
    "    h_oud = h[-1]\n",
    "    \n",
    "    # we berekenen de krachten voor de volgende tijdstap:\n",
    "    F_zwaarte  = g*m\n",
    "    F_wrijving = -k_w *v_oud\n",
    "    F_totaal = F_zwaarte + F_wrijving\n",
    "    \n",
    "    # we berekenen de versnelling:\n",
    "    versnelling = F_totaal/m\n",
    "    \n",
    "    # nu we berekenen we x, v en t voor de volgende tijdstap:\n",
    "    t_nieuw = t_oud + dt\n",
    "    h_nieuw = h_oud + (v_oud * dt)\n",
    "    v_nieuw = v_oud + (versnelling  * dt)\n",
    "    \n",
    "    # en we slaan de nieuwe waarden op in de lijsten:\n",
    "    t.append(t_nieuw)\n",
    "    h.append(h_nieuw)\n",
    "    v.append(v_nieuw)\n",
    "    \n",
    "    # 1 tijdstap is klaar. Nu gaat de som terug naar \"while\"\n",
    "    \n",
    "# hier komt de som pas als de while-loop stopt\n",
    "\"de simulatie is klaar! De val duurde\" \n",
    "t[-1] \n",
    "\"seconden\"\n",
    "    \n",
    "\n",
    "    "
   ]
  },
  {
   "cell_type": "markdown",
   "metadata": {},
   "source": [
    "## Resultaten\n",
    "De lisjten zijn nu gevuld\n",
    "De eerste 10 waarden van h zijn nu:"
   ]
  },
  {
   "cell_type": "code",
   "execution_count": null,
   "metadata": {},
   "outputs": [],
   "source": [
    "h[:10]"
   ]
  },
  {
   "cell_type": "markdown",
   "metadata": {},
   "source": [
    "En de laatste 10 zijn:"
   ]
  },
  {
   "cell_type": "code",
   "execution_count": null,
   "metadata": {},
   "outputs": [],
   "source": [
    "h[-10:]"
   ]
  },
  {
   "cell_type": "markdown",
   "metadata": {},
   "source": [
    "## Grafieken  \n",
    "Nu wat grafieken:"
   ]
  },
  {
   "cell_type": "code",
   "execution_count": null,
   "metadata": {},
   "outputs": [],
   "source": [
    "plot(t,h)\n",
    "title('de hoogte tijdens de valbeweging')\n",
    "xlabel('t [s]')\n",
    "ylabel('h [m]');\n"
   ]
  },
  {
   "cell_type": "code",
   "execution_count": null,
   "metadata": {},
   "outputs": [],
   "source": [
    "plot(t,v)\n",
    "title('de snelheid tijdens de valbeweging')\n",
    "xlabel('t [s]')\n",
    "ylabel('x [m]');"
   ]
  },
  {
   "cell_type": "code",
   "execution_count": null,
   "metadata": {},
   "outputs": [],
   "source": []
  },
  {
   "cell_type": "code",
   "execution_count": null,
   "metadata": {},
   "outputs": [],
   "source": []
  }
 ],
 "metadata": {
  "kernelspec": {
   "display_name": "Python 3",
   "language": "python",
   "name": "python3"
  },
  "language_info": {
   "codemirror_mode": {
    "name": "ipython",
    "version": 3
   },
   "file_extension": ".py",
   "mimetype": "text/x-python",
   "name": "python",
   "nbconvert_exporter": "python",
   "pygments_lexer": "ipython3",
   "version": "3.7.3"
  }
 },
 "nbformat": 4,
 "nbformat_minor": 4
}
