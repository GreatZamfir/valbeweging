{
 "cells": [
  {
   "cell_type": "markdown",
   "metadata": {},
   "source": [
    "# Valbeweging\n",
    "Dit programma simuleert een valbeweging met wrijving\n",
    "\n",
    "Je kunt het programma draaien door tegelijk op \"shift\" en op \"enter\" te drukken.  \n",
    "Er wordt dan 1 vakje afgespeeld\n",
    "\n",
    "Probeer maar:"
   ]
  },
  {
   "cell_type": "code",
   "execution_count": 1,
   "metadata": {},
   "outputs": [
    {
     "data": {
      "text/plain": [
       "4"
      ]
     },
     "execution_count": 1,
     "metadata": {},
     "output_type": "execute_result"
    }
   ],
   "source": [
    "2 + 2"
   ]
  },
  {
   "cell_type": "code",
   "execution_count": 11,
   "metadata": {},
   "outputs": [
    {
     "data": {
      "text/plain": [
       "7"
      ]
     },
     "execution_count": 11,
     "metadata": {},
     "output_type": "execute_result"
    }
   ],
   "source": [
    "waarde = 3\n",
    "waarde + 4"
   ]
  },
  {
   "cell_type": "code",
   "execution_count": 3,
   "metadata": {},
   "outputs": [
    {
     "data": {
      "text/plain": [
       "'instellingen zijn opgeslagen'"
      ]
     },
     "execution_count": 3,
     "metadata": {},
     "output_type": "execute_result"
    }
   ],
   "source": [
    "# wat tovenarij om de rest mooier te laten werken\n",
    "# niet teveel over nadenken, gewoon op shift+enter drukken\n",
    "from matplotlib.pyplot import *\n",
    "%matplotlib  inline\n",
    "\n",
    "from IPython.core.interactiveshell import InteractiveShell\n",
    "%precision %.2f \n",
    "InteractiveShell.ast_node_interactivity = \"all\"\n",
    "\"instellingen zijn opgeslagen\""
   ]
  },
  {
   "cell_type": "markdown",
   "metadata": {},
   "source": [
    "\n",
    "\n",
    "## Invoer\n",
    "Hier geven we de parameters van de simulatie op\n",
    "\n"
   ]
  },
  {
   "cell_type": "code",
   "execution_count": 4,
   "metadata": {},
   "outputs": [
    {
     "data": {
      "text/plain": [
       "'invoer is opgeslagen'"
      ]
     },
     "execution_count": 4,
     "metadata": {},
     "output_type": "execute_result"
    }
   ],
   "source": [
    "m = 3.          # massa in kg\n",
    "g = -9.81       #valversnelling in m/s**2\n",
    "k_w = 2.       # wrijvingcoefficent. F_wrijving = - k_w*v \n",
    "h_vloer = 2.    # hoogte van de vloer in m. De som stopt als we de vloer raken\n",
    "\n",
    "v_begin = 25.  # snelheid in m/2. Positief is omhoog!\n",
    "h_begin = 10. # hoogte in m\n",
    "t_begin = 0.  # tijd in s\n",
    "\n",
    "dt= 0.01 # tijdstap van de simulatie. Hoe kleiner, hoe nauwkeuriger de simulatie\n",
    "\n",
    "\"invoer is opgeslagen\""
   ]
  },
  {
   "cell_type": "markdown",
   "metadata": {},
   "source": [
    "De waarden zijn nu opgeslagen. Kijk maar:"
   ]
  },
  {
   "cell_type": "code",
   "execution_count": 5,
   "metadata": {},
   "outputs": [
    {
     "data": {
      "text/plain": [
       "10.00 "
      ]
     },
     "execution_count": 5,
     "metadata": {},
     "output_type": "execute_result"
    }
   ],
   "source": [
    "h_begin"
   ]
  },
  {
   "cell_type": "markdown",
   "metadata": {},
   "source": [
    "## De simulatie\n",
    "\n",
    "Tijdens het programma veranderen v h en t  \n",
    "We slaan alle waarden op in lijsten, bijvoorbeeld h = [10.0, 9.0, 8.0]\n",
    "\n",
    "De eerste waarde in de lijst zetten we op de beginwaarde\n",
    "\n",
    "De laatste waarde in lijst x heet x[-1]\n",
    "\n",
    "Elke stap voegen we een waarde toe aan de lijst met x.append. Dit wordt dan de nieuwe x[-1]\n",
    "\n"
   ]
  },
  {
   "cell_type": "code",
   "execution_count": 6,
   "metadata": {},
   "outputs": [
    {
     "data": {
      "text/plain": [
       "'de simulatie is klaar! De val duurde'"
      ]
     },
     "execution_count": 6,
     "metadata": {},
     "output_type": "execute_result"
    },
    {
     "data": {
      "text/plain": [
       "4.38 "
      ]
     },
     "execution_count": 6,
     "metadata": {},
     "output_type": "execute_result"
    },
    {
     "data": {
      "text/plain": [
       "'seconden'"
      ]
     },
     "execution_count": 6,
     "metadata": {},
     "output_type": "execute_result"
    }
   ],
   "source": [
    "# Initialisatie van de lijsten:\n",
    "t = [t_begin]\n",
    "h = [h_begin]\n",
    "v = [v_begin]\n",
    "\n",
    "# we herhalen de volgende berekening, \n",
    "# zolang (\"while\") de hoogte groter is dan de vloer\n",
    "\n",
    "while h[-1] > h_vloer : \n",
    "    # Begin van de nieuwe tijdstap\n",
    "    #We lezen de waarden van de vorige tijdstap:\n",
    "    t_oud = t[-1]\n",
    "    v_oud = v[-1]\n",
    "    h_oud = h[-1]\n",
    "    \n",
    "    # we berekenen de krachten voor de volgende tijdstap:\n",
    "    F_zwaarte  = g*m\n",
    "    F_wrijving = -k_w *v_oud\n",
    "    F_totaal = F_zwaarte + F_wrijving\n",
    "    \n",
    "    # we berekenen de versnelling:\n",
    "    versnelling = F_totaal/m\n",
    "    \n",
    "    # nu we berekenen we x, v en t voor de volgende tijdstap:\n",
    "    t_nieuw = t_oud + dt\n",
    "    h_nieuw = h_oud + (v_oud * dt)\n",
    "    v_nieuw = v_oud + (versnelling  * dt)\n",
    "    \n",
    "    # en we slaan de nieuwe waarden op in de lijsten:\n",
    "    t.append(t_nieuw)\n",
    "    h.append(h_nieuw)\n",
    "    v.append(v_nieuw)\n",
    "    \n",
    "    # 1 tijdstap is klaar. Nu gaat de som terug naar \"while\"\n",
    "    \n",
    "# hier komt de som pas als de while-loop stopt\n",
    "\"de simulatie is klaar! De val duurde\" \n",
    "t[-1] \n",
    "\"seconden\"\n",
    "    \n",
    "\n",
    "    "
   ]
  },
  {
   "cell_type": "markdown",
   "metadata": {},
   "source": [
    "## Resultaten\n",
    "De lisjten zijn nu gevuld\n",
    "De eerste 10 waarden van h zijn nu:"
   ]
  },
  {
   "cell_type": "code",
   "execution_count": 7,
   "metadata": {},
   "outputs": [
    {
     "data": {
      "text/plain": [
       "[10.00 ,\n",
       " 10.25 ,\n",
       " 10.50 ,\n",
       " 10.74 ,\n",
       " 10.98 ,\n",
       " 11.22 ,\n",
       " 11.46 ,\n",
       " 11.70 ,\n",
       " 11.93 ,\n",
       " 12.16 ]"
      ]
     },
     "execution_count": 7,
     "metadata": {},
     "output_type": "execute_result"
    }
   ],
   "source": [
    "h[:10]"
   ]
  },
  {
   "cell_type": "markdown",
   "metadata": {},
   "source": [
    "En de laatste 10 zijn:"
   ]
  },
  {
   "cell_type": "code",
   "execution_count": 8,
   "metadata": {},
   "outputs": [
    {
     "data": {
      "text/plain": [
       "[3.07 , 2.94 , 2.82 , 2.69 , 2.57 , 2.44 , 2.32 , 2.19 , 2.06 , 1.94 ]"
      ]
     },
     "execution_count": 8,
     "metadata": {},
     "output_type": "execute_result"
    }
   ],
   "source": [
    "h[-10:]"
   ]
  },
  {
   "cell_type": "markdown",
   "metadata": {},
   "source": [
    "## Grafieken  \n",
    "Nu wat grafieken:"
   ]
  },
  {
   "cell_type": "code",
   "execution_count": 9,
   "metadata": {},
   "outputs": [
    {
     "data": {
      "image/png": "[encoded data removed]",
      "text/plain": [
       "<Figure size 432x288 with 1 Axes>"
      ]
     },
     "metadata": {
      "needs_background": "light"
     },
     "output_type": "display_data"
    }
   ],
   "source": [
    "plot(t,h)\n",
    "title('de hoogte tijdens de valbeweging')\n",
    "xlabel('t [s]')\n",
    "ylabel('h [m]');\n"
   ]
  },
  {
   "cell_type": "code",
   "execution_count": 10,
   "metadata": {},
   "outputs": [
    {
     "data": {
      "image/png": "[encoded data removed]",
      "text/plain": [
       "<Figure size 432x288 with 1 Axes>"
      ]
     },
     "metadata": {
      "needs_background": "light"
     },
     "output_type": "display_data"
    }
   ],
   "source": [
    "plot(t,v)\n",
    "title('de snelheid tijdens de valbeweging')\n",
    "xlabel('t [s]')\n",
    "ylabel('x [m]');"
   ]
  },
  {
   "cell_type": "code",
   "execution_count": null,
   "metadata": {},
   "outputs": [],
   "source": []
  },
  {
   "cell_type": "code",
   "execution_count": null,
   "metadata": {},
   "outputs": [],
   "source": []
  }
 ],
 "metadata": {
  "kernelspec": {
   "display_name": "Python 3",
   "language": "python",
   "name": "python3"
  },
  "language_info": {
   "codemirror_mode": {
    "name": "ipython",
    "version": 3
   },
   "file_extension": ".py",
   "mimetype": "text/x-python",
   "name": "python",
   "nbconvert_exporter": "python",
   "pygments_lexer": "ipython3",
   "version": "3.7.3"
  }
 },
 "nbformat": 4,
 "nbformat_minor": 4
}
